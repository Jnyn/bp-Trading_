{
  "cells": [
    {
      "cell_type": "code",
      "source": [
        "pip install ta"
      ],
      "metadata": {
        "id": "owpJeC3LMjjY"
      },
      "execution_count": null,
      "outputs": []
    },
    {
      "cell_type": "code",
      "execution_count": 3,
      "metadata": {
        "id": "HPBVglGIym95"
      },
      "outputs": [],
      "source": [
        "import pandas as pd\n",
        "import numpy as np\n",
        "import matplotlib.pyplot as plt\n",
        "import ta"
      ]
    },
    {
      "cell_type": "markdown",
      "metadata": {
        "id": "I8VZujuTym9_"
      },
      "source": [
        "## Read the data into a dataframe\n",
        "- jenny"
      ]
    },
    {
      "cell_type": "code",
      "execution_count": 4,
      "metadata": {
        "id": "aGeN1aerym-C"
      },
      "outputs": [],
      "source": [
        "def read_data(csv_file):\n",
        "    pass\n",
        "    df = pd.read_excel(csv_file)\n",
        "    return df\n",
        "    # return df"
      ]
    },
    {
      "cell_type": "code",
      "source": [
        "data15min = 'https://raw.githubusercontent.com/SamanvayMS/bp-Trading/307426f1191f8e18e0c00b34abcb7f99f774cf58/Data%20for%20Practicum%202/15min_25_8_156_ohlc.xlsx'\n",
        "data1hr = 'https://raw.githubusercontent.com/SamanvayMS/bp-Trading/307426f1191f8e18e0c00b34abcb7f99f774cf58/Data%20for%20Practicum%202/1hr_25_8_255_ohlc.xlsx'\n",
        "data4hr = 'https://raw.githubusercontent.com/SamanvayMS/bp-Trading/307426f1191f8e18e0c00b34abcb7f99f774cf58/Data%20for%20Practicum%202/4hr_25_8_255_ohlc.xlsx'\n",
        "\n",
        "data1 = read_data(data15min)\n",
        "\n",
        "print(data1.head())\n"
      ],
      "metadata": {
        "colab": {
          "base_uri": "https://localhost:8080/"
        },
        "id": "21jpErVzPGvB",
        "outputId": "f06f8f93-7601-4a17-c5db-9409246fbc20"
      },
      "execution_count": 6,
      "outputs": [
        {
          "output_type": "stream",
          "name": "stdout",
          "text": [
            "                 Date    Open    High     Low   Close\n",
            "0 2023-08-25 16:45:00  1.0793  1.0796  1.0793  1.0795\n",
            "1 2023-08-25 16:30:00  1.0793  1.0794  1.0791  1.0793\n",
            "2 2023-08-25 16:15:00  1.0797  1.0798  1.0792  1.0793\n",
            "3 2023-08-25 16:00:00  1.0802  1.0803  1.0796  1.0797\n",
            "4 2023-08-25 15:45:00  1.0808  1.0808  1.0800  1.0802\n"
          ]
        }
      ]
    },
    {
      "cell_type": "markdown",
      "metadata": {
        "id": "JOEphjxsym-D"
      },
      "source": [
        "##build function to stop trading between 4pm and 5pm everyday\n",
        "- jenny"
      ]
    },
    {
      "cell_type": "code",
      "source": [
        "data1['Date']"
      ],
      "metadata": {
        "colab": {
          "base_uri": "https://localhost:8080/"
        },
        "id": "muVTzB9aTp4J",
        "outputId": "fd2c3394-2dc2-4fec-f67b-248990fb353c"
      },
      "execution_count": 7,
      "outputs": [
        {
          "output_type": "execute_result",
          "data": {
            "text/plain": [
              "0       2023-08-25 16:45:00\n",
              "1       2023-08-25 16:30:00\n",
              "2       2023-08-25 16:15:00\n",
              "3       2023-08-25 16:00:00\n",
              "4       2023-08-25 15:45:00\n",
              "                ...        \n",
              "15191   2023-01-22 14:00:00\n",
              "15192   2023-01-22 13:45:00\n",
              "15193   2023-01-22 13:30:00\n",
              "15194   2023-01-22 13:15:00\n",
              "15195   2023-01-22 13:00:00\n",
              "Name: Date, Length: 15196, dtype: datetime64[ns]"
            ]
          },
          "metadata": {},
          "execution_count": 7
        }
      ]
    },
    {
      "cell_type": "code",
      "source": [
        "def market_closed(DATE):\n",
        "    if DATE.time() >= pd.Timestamp(\"16:00:00\").time() and DATE.time() <= pd.Timestamp(\"17:00:00\").time():\n",
        "        return True\n",
        "    else:\n",
        "        return False"
      ],
      "metadata": {
        "id": "oYwcGAy6UMxg"
      },
      "execution_count": 8,
      "outputs": []
    },
    {
      "cell_type": "code",
      "source": [
        "data1[\"market_closed\"] = data1[\"Date\"].apply(market_closed)\n",
        "print(data1)"
      ],
      "metadata": {
        "colab": {
          "base_uri": "https://localhost:8080/"
        },
        "id": "NyZwKQ6OU1f9",
        "outputId": "7627e98d-e236-4213-faf5-0608608ae188"
      },
      "execution_count": 9,
      "outputs": [
        {
          "output_type": "stream",
          "name": "stdout",
          "text": [
            "                     Date    Open    High     Low   Close  market_closed\n",
            "0     2023-08-25 16:45:00  1.0793  1.0796  1.0793  1.0795           True\n",
            "1     2023-08-25 16:30:00  1.0793  1.0794  1.0791  1.0793           True\n",
            "2     2023-08-25 16:15:00  1.0797  1.0798  1.0792  1.0793           True\n",
            "3     2023-08-25 16:00:00  1.0802  1.0803  1.0796  1.0797           True\n",
            "4     2023-08-25 15:45:00  1.0808  1.0808  1.0800  1.0802          False\n",
            "...                   ...     ...     ...     ...     ...            ...\n",
            "15191 2023-01-22 14:00:00  1.0857  1.0858  1.0856  1.0857          False\n",
            "15192 2023-01-22 13:45:00  1.0855  1.0858  1.0854  1.0857          False\n",
            "15193 2023-01-22 13:30:00  1.0857  1.0857  1.0854  1.0855          False\n",
            "15194 2023-01-22 13:15:00  1.0853  1.0857  1.0852  1.0856          False\n",
            "15195 2023-01-22 13:00:00  1.0841  1.0862  1.0841  1.0853          False\n",
            "\n",
            "[15196 rows x 6 columns]\n"
          ]
        }
      ]
    },
    {
      "cell_type": "markdown",
      "metadata": {
        "id": "SvrcOJsPym-E"
      },
      "source": [
        "## build a function to track trades and add linked trades"
      ]
    },
    {
      "cell_type": "code",
      "execution_count": null,
      "metadata": {
        "id": "7MW_iYBcym-F"
      },
      "outputs": [],
      "source": [
        "def trade_tracker(trade_df,current_trade):\n",
        "    trade = [current_trade.price,current_trade.quantity,current_trade.time]\n",
        "    trade_df = trade_df.append(current_trade)\n",
        "    # return trade_df\n"
      ]
    },
    {
      "cell_type": "code",
      "execution_count": null,
      "metadata": {
        "id": "bwhP-Rigym-G"
      },
      "outputs": [],
      "source": [
        "def assign_values(df,row):\n",
        "    current_values = df[row]\n",
        "    previous_values = df[row].shift(1)\n",
        "    return previous_values,current_values"
      ]
    },
    {
      "cell_type": "code",
      "execution_count": null,
      "metadata": {
        "id": "VW0wI1hyym-H"
      },
      "outputs": [],
      "source": [
        "def strategy(df):\n",
        "    for row in df:\n",
        "        Close = df['Close']\n",
        "        Open = df['Open']\n",
        "        High = df['High']\n",
        "        Low = df['Low']\n",
        "        if buy_condition():\n",
        "            # buy\n",
        "            current_trade = {price: , quantity: , time: }\n",
        "            trade_df = trade_tracker(trade_df,current_trade)\n",
        "\n",
        "        if sell_condition():\n",
        "            # sell\n",
        "            current_trade = {price: , quantity: , time: }\n",
        "            trade_df = trade_tracker(trade_df,current_trade)\n",
        "\n",
        "    return trade_df, trade_tracker, current_trade\n"
      ]
    }
  ],
  "metadata": {
    "kernelspec": {
      "display_name": "tradingenv",
      "language": "python",
      "name": "python3"
    },
    "language_info": {
      "codemirror_mode": {
        "name": "ipython",
        "version": 3
      },
      "file_extension": ".py",
      "mimetype": "text/x-python",
      "name": "python",
      "nbconvert_exporter": "python",
      "pygments_lexer": "ipython3",
      "version": "3.11.5"
    },
    "orig_nbformat": 4,
    "colab": {
      "provenance": []
    }
  },
  "nbformat": 4,
  "nbformat_minor": 0
}